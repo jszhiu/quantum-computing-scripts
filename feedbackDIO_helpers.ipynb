{
 "cells": [
  {
   "cell_type": "markdown",
   "metadata": {},
   "source": [
    "# Interesting or helpful functions and settings used to interact with PQSC\n",
    "# But it needs to be noted that the PQSC FW is the most latest one."
   ]
  },
  {
   "cell_type": "code",
   "execution_count": 1,
   "metadata": {},
   "outputs": [],
   "source": [
    "import numpy as np\n",
    "from zhinst import ziPython\n",
    "import zhinst.ziPython as zi"
   ]
  },
  {
   "cell_type": "code",
   "execution_count": 1,
   "metadata": {},
   "outputs": [
    {
     "ename": "NameError",
     "evalue": "name 'zi' is not defined",
     "output_type": "error",
     "traceback": [
      "\u001b[1;31m---------------------------------------------------------------------------\u001b[0m",
      "\u001b[1;31mNameError\u001b[0m                                 Traceback (most recent call last)",
      "\u001b[1;32m<ipython-input-1-3721794fdd02>\u001b[0m in \u001b[0;36m<module>\u001b[1;34m\u001b[0m\n\u001b[0;32m      5\u001b[0m \u001b[1;33m\u001b[0m\u001b[0m\n\u001b[0;32m      6\u001b[0m \u001b[1;31m# Server connection\u001b[0m\u001b[1;33m\u001b[0m\u001b[1;33m\u001b[0m\u001b[1;33m\u001b[0m\u001b[0m\n\u001b[1;32m----> 7\u001b[1;33m \u001b[0mdaq2\u001b[0m \u001b[1;33m=\u001b[0m \u001b[0mzi\u001b[0m\u001b[1;33m.\u001b[0m\u001b[0mziDAQServer\u001b[0m\u001b[1;33m(\u001b[0m\u001b[0mSERVER\u001b[0m\u001b[1;33m,\u001b[0m \u001b[0mPORT\u001b[0m\u001b[1;33m,\u001b[0m \u001b[1;36m5\u001b[0m\u001b[1;33m)\u001b[0m\u001b[1;33m\u001b[0m\u001b[1;33m\u001b[0m\u001b[0m\n\u001b[0m\u001b[0;32m      8\u001b[0m \u001b[0mdaq2\u001b[0m\u001b[1;33m.\u001b[0m\u001b[0msetDebugLevel\u001b[0m\u001b[1;33m(\u001b[0m\u001b[1;36m0\u001b[0m\u001b[1;33m)\u001b[0m\u001b[1;33m\u001b[0m\u001b[1;33m\u001b[0m\u001b[0m\n\u001b[0;32m      9\u001b[0m \u001b[1;33m\u001b[0m\u001b[0m\n",
      "\u001b[1;31mNameError\u001b[0m: name 'zi' is not defined"
     ]
    }
   ],
   "source": [
    "PORT = 8004\n",
    "INTERFACE = '1GbE'\n",
    "SERVER = '10.42.0.66'\n",
    "\n",
    "\n",
    "# Server connection\n",
    "daq2 = zi.ziDAQServer(SERVER, PORT, 5)\n",
    "daq2.setDebugLevel(0)\n",
    "\n",
    "\n",
    "UHFQA = 'dev2171'\n",
    "daq2.connectDevice(UHFQA, INTERFACE)"
   ]
  },
  {
   "cell_type": "code",
   "execution_count": 8,
   "metadata": {},
   "outputs": [],
   "source": [
    "PORT = 8004\n",
    "INTERFACE = '1GbE'\n",
    "SERVER = '10.42.0.242'\n",
    "\n",
    "\n",
    "# Server connection\n",
    "daq = zi.ziDAQServer(SERVER, PORT, 5)\n",
    "daq.setDebugLevel(0)"
   ]
  },
  {
   "cell_type": "code",
   "execution_count": 9,
   "metadata": {},
   "outputs": [],
   "source": [
    "# Device names\n",
    "HDAWG = 'dev8147'\n",
    "UHFQA = 'dev2171'\n",
    "PQSC = 'dev10006'"
   ]
  },
  {
   "cell_type": "code",
   "execution_count": 10,
   "metadata": {},
   "outputs": [],
   "source": [
    "daq.connectDevice(HDAWG, INTERFACE)\n",
    "daq.connectDevice(UHFQA, INTERFACE)\n",
    "daq.connectDevice(PQSC, INTERFACE)"
   ]
  },
  {
   "cell_type": "markdown",
   "metadata": {},
   "source": [
    "## The PQSC settings: 1 run --> the whole feedback experiment. Both UHF and PQSC used internal clocks although. The holdoff chosen was 100.000 us, with one trigger doing the whole experiment."
   ]
  },
  {
   "cell_type": "markdown",
   "metadata": {},
   "source": [
    "### I have to change Elisa's script according to the following. The triggering is completely changed. The time it takes from QA Result finish trigger --> HD-AWG was around 200 ns. "
   ]
  },
  {
   "cell_type": "code",
   "execution_count": 12,
   "metadata": {},
   "outputs": [],
   "source": [
    "# UHFQA trigger settings\n",
    "\n",
    "# Scope module settings\n",
    "daq.setInt('/dev2171/scopes/0/trigchannel', 2) # Trig chanel chosen is Trigger Input 1\n",
    "daq.setDouble('/dev2171/scopes/0/trigreference', 0) # No trig reference needed\n",
    "daq.setDouble('/dev2171/scopes/0/trigdelay', 0) # No trig delay\n",
    "daq.setDouble('/dev2171/scopes/0/trigholdoff', 2e-05) # This is the lowest value\n",
    "daq.setDouble('/dev2171/scopes/0/trighysteresis/absolute', 0)\n",
    "daq.setInt('/dev2171/scopes/0/trigslope', 1)\n",
    "\n",
    "# Trigger channel\n",
    "daq.setInt('/dev2171/triggers/out/0/drive', 1) # Probably don't need to drive it?\n",
    "daq.setInt('/dev2171/triggers/out/0/source', 74) # Choose QA Result Trigger\n",
    "daq.setDouble('/dev2171/triggers/in/0/level', 0.1) \n",
    "daq.setInt('/dev2171/triggers/in/0/imp50', 0) # Need this off - why I'm not 100% sure"
   ]
  },
  {
   "cell_type": "code",
   "execution_count": 13,
   "metadata": {},
   "outputs": [],
   "source": [
    "# Set strobe of DIO to 'Off': strobe is the signal edge which actives the strobe trigger\n",
    "# The strobe signal coming from the HDAWG can be set by the AWG - but it does not have to be set as it does not matter\n",
    "daq.setInt(f'/{UHFQA}/awgs/0/dio/strobe/slope', 0)\n",
    "\n",
    "# Sets UHFQA DIO mode to QA Result: which are pins DIO[1:11] known as CW\n",
    "daq.setInt(f'/{UHFQA}/dios/0/mode', 0x2)\n",
    "\n",
    "# The signals for (QA Result mode DIO) will be driven by bits 16-31\n",
    "daq.setInt(f'/{UHFQA}/dios/0/drive', 0x3)\n",
    "\n",
    "# Set sampling rate of DIO data to 50 MHz (?)\n",
    "daq.setInt(f'/{UHFQA}/dios/0/extclk', 0x2)\n",
    "\n",
    "# Polarity which is set by DIO[16] must be high for a trigger to occur\n",
    "daq.setInt(f'/{UHFQA}/awgs/0/dio/valid/polarity', 2)\n",
    "daq.setInt(f'/{UHFQA}/awgs/0/dio/valid/index', 16)"
   ]
  },
  {
   "cell_type": "markdown",
   "metadata": {},
   "source": [
    "## This is the crux of the code. Initially I thought 0x004 works. But actually this was the setting that somehow made it all work."
   ]
  },
  {
   "cell_type": "code",
   "execution_count": 14,
   "metadata": {},
   "outputs": [],
   "source": [
    "## This will reset the constant HDAWG DIO output which ends up triggering the UHF-QA first\n",
    "daq.setInt(f'/{HDAWG}/raw/dios/0/mode', 0x004)\n",
    "\n",
    "# Set the mode to 1 for QCCS mode, 0x042 for old mode\n",
    "# DIO mux (old style configuration):\n",
    "# 1st nibble (DIO-out): 2 = ZSync-in to DIO-out (1 = setDIO to DIO-out, 0 = user-val to DIO-out)\n",
    "# 2nd nibble (AWG-DIO-in): 4 = ZSync-in to waitDIOTrigger (2 = DIO-in to waitDIOTrigger, 1 = \"2\"+\"4\")\n",
    "# 3rd nibble (ZSync-out): 0 = ? (1 = DIO-in to ZSync-out, 2 = setDIO to ZSync-out)\n",
    "#daq.setInt(f'/{HDAWG}/raw/dios/0/mode', 0x042) # Configured it\n",
    "## This is the config that has worked for me\n",
    "daq.setInt(f'/{HDAWG}/raw/dios/0/mode', 0x004)\n",
    "\n",
    "# The DIO at the master (?) HD-AWG is sampled at 50 MHz\n",
    "daq.setInt(f'/{HDAWG}/raw/dios/0/extclk', 0x1)\n",
    "\n",
    "# The HDAWG will drive the DIO bits [16] to [31]\n",
    "daq.setInt(f'/{HDAWG}/dios/0/drive', 0xc)\n",
    "\n",
    "# Set strobe of HDAWG to 'Off': strobe is the signal edge which actives the strobe trigger\n",
    "# The strobe signal coming from the UHFQA is DIO[15] which is always flickering at 25 MHz\n",
    "daq.setInt(f'/{HDAWG}/awgs/0/dio/strobe/slope', 0)\n",
    "\n",
    "# Below settings are currently needed for HDAWG triggering from PQSC over ZSync. May change!\n",
    "daq.setInt(f'/{HDAWG}/awgs/0/dio/valid/polarity', 2)\n",
    "daq.setInt(f'/{HDAWG}/awgs/0/dio/valid/index', 0)"
   ]
  },
  {
   "cell_type": "markdown",
   "metadata": {},
   "source": [
    "## The new AWG scripts: DON'T FORGET THAT THE HDAWG SCRIPT IS ALREADY OK, SINCE SHE CALLS THE VARIABLES IN FOR THE WAVEFORMS"
   ]
  },
  {
   "cell_type": "code",
   "execution_count": 1,
   "metadata": {},
   "outputs": [],
   "source": [
    "UHFawg = '''\n",
    "var c = 0;\n",
    "\n",
    "repeat(10){\n",
    "\n",
    "  setID(1);\n",
    "  waitDIOTrigger();\n",
    "  startQAResult();\n",
    "  \n",
    "  \n",
    "  \n",
    "\n",
    "  \n",
    "  waitQAResultTrigger();\n",
    "  //wait(6006); // JS: to account for the 20 us hold-off time\n",
    "  //c = c + 1;\n",
    "}\n",
    "\n",
    "setUserReg(0, c);\n",
    "\n",
    "'''"
   ]
  },
  {
   "cell_type": "code",
   "execution_count": null,
   "metadata": {},
   "outputs": [],
   "source": [
    "HDawg = '''\n",
    "    var c = 0; // JS: DEBUG\n",
    "setUserReg(0, c); // JS: DEBUG\n",
    "\n",
    "const AWG_N = 32;\n",
    "const seq_wait = 32;\n",
    "const gap_wait = 32;\n",
    "wave w = drag(AWG_N, AWG_N/2, AWG_N/8); // gaussian pulse with (length, center, width)\n",
    "wave w0 = zeros((seq_wait));\n",
    "wave w1 = zeros((gap_wait));\n",
    "\n",
    "repeat(10){\n",
    "    waitDIOTrigger(); // the trigger coming from the ZSync input, together with the settings in initialize_awg\n",
    "    //wait(2); // JS: Commented out \n",
    "    waitDIOTrigger();\n",
    "    //c = c+1; // JS: DEBUG\n",
    "\n",
    "    // getDIOTriggered();\n",
    "    playWave(w0);\n",
    "    playWave(1,w);\n",
    "    playWave(w1);\n",
    "    playWave(2,w);\n",
    "    // setUserReg(0, (getDIOTriggered() >> 1) & 0x3ff); // setting the mask to the qubit results\n",
    "    }\n",
    "setUserReg(0, c); // JS: DEBUG, reads out number of triggers acquired\n",
    "'''"
   ]
  },
  {
   "cell_type": "markdown",
   "metadata": {},
   "source": [
    "## This is a cool (TBD function) I could use to debug how fast the data from the UHF is being recieved in the HDAWG using the Pulse Counter tab in HDAWG"
   ]
  },
  {
   "cell_type": "code",
   "execution_count": 15,
   "metadata": {},
   "outputs": [
    {
     "name": "stdout",
     "output_type": "stream",
     "text": [
      "Frequency of DIO bit 3 is 23310662\n",
      "Time taken to recieve trigger value of DIO bit 3 is 42.89882458078625 ns\n"
     ]
    }
   ],
   "source": [
    "# Debug the frequency of a DIO port for eg. to find out how long the UHF-QA integration path takes to reach HDAWG DIO\n",
    "# We use the Pulse Counter tab\n",
    "\n",
    "# Need to set HD master DIO mode to 0 for normal DIO to DIO mode - or 1?\n",
    "\n",
    "\n",
    "DIObit = 3\n",
    "daq.setInt(f'/{HDAWG}/cnts/0/enable', 1)\n",
    "daq.setInt(f'/{HDAWG}/cnts/0/mode', 4) # 4 --> Time tagging: detects a pulse individually and finds the period. Does it over and over for 1 second, and gives us the maximum rate this data was sent\n",
    "daq.setInt(f'/{HDAWG}/cnts/0/trigfalling', 0) # Detect on trigger rises\n",
    "\n",
    "freqOfDIO = daq.getInt(f'/{HDAWG}/cnts/0/value')\n",
    "timePeriodns = (1/freqOfDIO)*1e9\n",
    "print(f'Frequency of DIO bit {DIObit} is {freqOfDIO}')\n",
    "print(f'Time taken to recieve trigger value of DIO bit {DIObit} is {timePeriodns} ns')"
   ]
  }
 ],
 "metadata": {
  "kernelspec": {
   "display_name": "Python 3",
   "language": "python",
   "name": "python3"
  },
  "language_info": {
   "codemirror_mode": {
    "name": "ipython",
    "version": 3
   },
   "file_extension": ".py",
   "mimetype": "text/x-python",
   "name": "python",
   "nbconvert_exporter": "python",
   "pygments_lexer": "ipython3",
   "version": "3.7.6"
  }
 },
 "nbformat": 4,
 "nbformat_minor": 4
}
