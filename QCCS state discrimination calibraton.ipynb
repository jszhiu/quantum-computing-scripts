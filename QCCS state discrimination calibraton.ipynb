{
 "cells": [
  {
   "cell_type": "markdown",
   "metadata": {},
   "source": [
    "# QCCS: This program is a simple algorithm for finding the most optimum thresholds by optimizing rotation coefficients and QA sample delay\n",
    "\n",
    "## This will run 128 measurements of a qubit each in ground and excited state.\n",
    "\n",
    "### Table of Contents\n",
    "\n",
    "* [1) Imports and helper functions](#chapter1)\n",
    "* [2) Device initialization/connection](#chapter2)\n",
    "* [3) Configure PQSC](#chapter3)\n",
    "* [4) Configure HDAWG](#chapter4)\n",
    "* [5) Configure UHFQA](#chapter5)\n",
    "    * [5.2 Configure UHFQA QCCS mode](#section_5_1)\n",
    "    * [5.2 Configure UHFQA for 2-qubit](#section_5_2)\n",
    "* [6) Initialise and upload UHF/HD AWG programs](#chapter6)\n",
    "* [7) Configure Upload and Run program](#chapter7)\n",
    "* [8) Read results (under work)](#chapter8)"
   ]
  },
  {
   "cell_type": "markdown",
   "metadata": {},
   "source": [
    "### 1) Imports and helper functions <a class=\"anchor\" id=\"chapter1\"></a>"
   ]
  },
  {
   "cell_type": "code",
   "execution_count": 1,
   "metadata": {},
   "outputs": [],
   "source": [
    "import time\n",
    "import zhinst.ziPython as zi\n",
    "import numpy as np\n",
    "import matplotlib.pyplot as plt\n",
    "import math\n",
    "\n",
    "# Compile AWG seqC code\n",
    "def awg_compile_upload_elf(awgModule, awgIndex, awg_program):\n",
    "    \"\"\"Compile and upload awg_program as .elf file\"\"\"\n",
    "    awgModule.set('awgModule/index', awgIndex)\n",
    "    awgModule.set('awgModule/compiler/sourcestring', awg_program)\n",
    "\n",
    "    while awgModule.getInt('awgModule/compiler/status') == -1:\n",
    "        time.sleep(0.1)\n",
    "    if awgModule.getInt('awgModule/compiler/status') == 1:\n",
    "        raise Exception(awgModule.getString('awgModule/compiler/statusstring'))\n",
    "\n",
    "    if awgModule.getInt('awgModule/compiler/status') == 2:\n",
    "        print(\"Compilation successful with warnings, will upload the program to the instrument.\")\n",
    "        print(\"Compiler warning: \", awgModule.getString('awgModule/compiler/statusstring'))\n",
    "\n",
    "    time.sleep(0.2)\n",
    "    i = 0\n",
    "    while (awgModule.getDouble('awgModule/progress') < 1.0) and (awgModule.getInt('awgModule/elf/status') != 1):\n",
    "        time.sleep(0.5)\n",
    "        i += 1\n",
    "\n",
    "    if awgModule.getInt('awgModule/elf/status') == 1:\n",
    "        raise Exception(\"Upload to the instrument failed.\")\n",
    "        \n",
    "# Rotation in I/Q plane\n",
    "def rotate(number, degree):\n",
    "    n = number\n",
    "    return (math.e**(math.radians(degree)*1j)) * n"
   ]
  },
  {
   "cell_type": "markdown",
   "metadata": {},
   "source": [
    "### 2) Specify your data server + devices used <a class=\"anchor\" id=\"chapter2\"></a>\n",
    "#### Note: variable UHFQA_watch can be ignored"
   ]
  },
  {
   "cell_type": "code",
   "execution_count": 2,
   "metadata": {},
   "outputs": [],
   "source": [
    "SERVER = '127.0.0.1'\n",
    "\n",
    "daq = zi.ziDAQServer(SERVER, 8004, 1)\n",
    "\n",
    "# Define device IDs\n",
    "PQSC = 'dev10006'\n",
    "UHFQA = 'dev2171'\n",
    "HDAWG = 'dev8147'\n",
    "\n",
    "# On the continuity setup, this device is not connected to anything or perform any function\n",
    "UHFQA_watch = 'dev2004' \n",
    "\n",
    "\n",
    "# Connection to data server\n",
    "daq.connectDevice(PQSC, '1gbe')\n",
    "daq.connectDevice(UHFQA, '1gbe')\n",
    "daq.connectDevice(HDAWG, '1gbe')"
   ]
  },
  {
   "cell_type": "markdown",
   "metadata": {},
   "source": [
    "### 3) Configure the PQSC for register forwarding (conditional unit TBD)  <a class=\"anchor\" id=\"chapter3\"></a>"
   ]
  },
  {
   "cell_type": "code",
   "execution_count": 3,
   "metadata": {},
   "outputs": [],
   "source": [
    "### Configure PQSC\n",
    "\n",
    "# Use external reference clock coming from the UHFQA\n",
    "daq.setInt(f'/{PQSC}/system/clocks/referenceclock/in/source', 1)\n",
    "\n",
    "## Configure execution engine\n",
    "# Send a single trigger to start the HDAWG and the UHFQA\n",
    "daq.setInt(f'/{PQSC}/execution/repetitions', 1)\n",
    "# Wait for feedback to arrive from UHFQA (10us is more than enough)\n",
    "daq.setDouble(f'/{PQSC}/execution/holdoff', 10e-6)\n",
    "\n",
    "## Register forwarding\n",
    "# ZSync output port to the receiver HDAWG\n",
    "port = 0\n",
    "# Program register bank forwarding\n",
    "fwd_length = 4\n",
    "fwd = range(0, 4)\n",
    "daq.setVector(f'/{PQSC}/raw/regs/{port}/fwd', np.array(fwd).astype(np.uint32))\n",
    "# Enable forwarding on output port\n",
    "daq.setInt(f'/{PQSC}/raw/zsyncs/{port}/txmux/fwd_en', 1)\n",
    "\n",
    "## Condition unit\n",
    "# ZSync output port to the receiver HDAWG\n",
    "port = 0\n",
    "# Program condition unit sources\n",
    "src_length = 8\n",
    "src = range(0, 8)\n",
    "daq.setVector(f'/{PQSC}/raw/cond/src', np.array(src).astype(np.uint32))\n",
    "# Program condition unit function\n",
    "lut_length = 2**src_length\n",
    "offset = 512\n",
    "lut = range(offset, offset+lut_length)\n",
    "daq.setVector(f'/{PQSC}/raw/cond/lut', np.array(lut).astype(np.uint32))\n",
    "# Program condition unit byte selection\n",
    "sel_length = 18\n",
    "sel = [1] * sel_length\n",
    "daq.setVector(f'/{PQSC}/raw/cond/sel', np.array(sel).astype(np.uint32))\n",
    "\n",
    "# Enable condition output on forwarding port\n",
    "daq.setInt(f'/{PQSC}/raw/zsyncs/{port}/txmux/cond_en', 0) # This should be 0 according to Niels, cond not working"
   ]
  },
  {
   "cell_type": "markdown",
   "metadata": {},
   "source": [
    "### 4) Configure HDAWG to QCCS mode  <a class=\"anchor\" id=\"chapter4\"></a>"
   ]
  },
  {
   "cell_type": "code",
   "execution_count": 4,
   "metadata": {},
   "outputs": [],
   "source": [
    "## Configure HDAWG\n",
    "\n",
    "# Use ZSync clock\n",
    "daq.setInt(f'/{HDAWG}/system/clocks/referenceclock/source', 2)\n",
    "\n",
    "## Configure DIO\n",
    "# Configure DIO switch to QCCS mode\n",
    "daq.setInt(f'/{HDAWG}/dios/0/mode', 3)\n",
    "# Drive the two most significant bytes of the DIO port\n",
    "# The UHFQA drives the two least significant bytes of the DIO port\n",
    "daq.setInt(f'/{HDAWG}/dios/0/drive', 0b1100)\n",
    "# Configure DIO triggering to match ZSync input\n",
    "daq.setInt(f'{HDAWG}/awgs/0/dio/strobe/slope', 0)\n",
    "daq.setInt(f'{HDAWG}/awgs/0/dio/valid/polarity', 0)\n",
    "\n",
    "## Configure AWG\n",
    "# Setup AWG module\n",
    "awg_hd = daq.awgModule()\n",
    "awg_hd.set('device', HDAWG)\n",
    "awg_hd.set('index', 0)\n",
    "awg_hd.execute()\n",
    "\n",
    "# Turn on HDAWG outputs\n",
    "daq.setInt(f'/{HDAWG}/sigouts/0/on', 1)\n",
    "daq.setInt(f'/{HDAWG}/sigouts/1/on', 1)"
   ]
  },
  {
   "cell_type": "markdown",
   "metadata": {},
   "source": [
    "### 5) Configure UHFQA <a class=\"anchor\" id=\"chapter5\"></a>"
   ]
  },
  {
   "cell_type": "markdown",
   "metadata": {},
   "source": [
    "### 5.1) Configure UHFQA for QCCS mode <a class=\"anchor\" id=\"section_5_1\"></a>"
   ]
  },
  {
   "cell_type": "code",
   "execution_count": 5,
   "metadata": {},
   "outputs": [],
   "source": [
    "### Configure UHFQA\n",
    "\n",
    "# UHFQA uses its own clock in this experiment\n",
    "\n",
    "## Configure DIO\n",
    "# Sample DIO data at 50 MHz\n",
    "daq.setInt(f'{UHFQA}/dios/0/extclk', 2)\n",
    "# Set DIO output to QA result QCCS\n",
    "daq.setInt(f'{UHFQA}/dios/0/mode', 4)\n",
    "# Drive the two least significant bytes of the DIO port\n",
    "# The HDAWG drives the two most significant bytes of the DIO port\n",
    "daq.setInt(f'{UHFQA}/dios/0/drive', 0b0011)\n",
    "# Configure DIO triggering to match HDAWG DIO input\n",
    "daq.setInt(f'/{UHFQA}/awgs/0/dio/strobe/slope', 0)\n",
    "daq.setInt(f'/{UHFQA}/awgs/0/dio/valid/polarity', 2)\n",
    "daq.setInt(f'/{UHFQA}/awgs/0/dio/valid/index', 16)\n",
    "\n",
    "## QA readout configuration\n",
    "# Bypass crosstalk to reduce latency\n",
    "daq.setInt(f'{UHFQA}/qas/0/crosstalk/bypass', 1)\n",
    "# Set length of integration (arbitrary value of 128)\n",
    "daq.setInt(f'{UHFQA}/qas/0/integration/length', 128)\n",
    "# Set threshold levels to a low value so qubit readout is always high\n",
    "for i in range(10):\n",
    "    daq.setDouble(f'/{UHFQA}/qas/0/thresholds/{i}/level', -100)\n",
    "# Reset QA results\n",
    "daq.setInt(f'{UHFQA}/qas/0/result/reset', 1)"
   ]
  },
  {
   "cell_type": "markdown",
   "metadata": {},
   "source": [
    "### 5.2) Configure UHFQA for two-qubit readout + upload integration weights <a class=\"anchor\" id=\"section_5_2\"></a>"
   ]
  },
  {
   "cell_type": "code",
   "execution_count": 6,
   "metadata": {},
   "outputs": [],
   "source": [
    "# Input/Output settings\n",
    "daq.setInt(f'/{UHFQA}/sigins/0/imp50', 1)\n",
    "daq.setInt(f'/{UHFQA}/sigins/1/imp50', 1)\n",
    "daq.setDouble(f'/{UHFQA}/sigins/0/range', 1.5)\n",
    "daq.setDouble(f'/{UHFQA}/sigins/1/range', 1.5)\n",
    "daq.setInt(f'/{UHFQA}/sigouts/0/on', 1)\n",
    "daq.setInt(f'/{UHFQA}/sigouts/1/on', 1)\n",
    "\n",
    "\n",
    "# Configure QA setup\n",
    "### Sample delay begins at 0: Find the delay present from signal output to QA integrator input\n",
    "daq.setInt(f'/{UHFQA}/qas/0/delay', 0) # JS: \n",
    "# Integration length chosen 128 since the signal to be read and integrated is exactly 128 samples long\n",
    "daq.setDouble(f'/{UHFQA}/qas/0/integration/length', 128) # JS: Does reducing the length = less time used for integration? Probably not\n",
    "daq.setInt(f'/{UHFQA}/qas/0/integration/mode', 0)\n",
    "daq.setInt(f'/{UHFQA}/qas/0/integration/sources/0', 0)\n",
    "daq.setInt(f'/{UHFQA}/qas/0/integration/sources/1', 0)\n",
    "\n",
    "daq.setDouble(f'/{UHFQA}/qas/0/result/length', 128)\n",
    "\n",
    "# Set QA result mode to \"Integration\" mode in I/Q plane\n",
    "daq.setInt(f'/{UHFQA}/qas/0/result/source', 7)\n",
    "\n",
    "\n",
    "# Upload integration weights\n",
    "ch1_freq = 28.125e6 # Oscillator frequency\n",
    "ch2_freq = 56.25e6 # Oscillator frequency\n",
    "fs_uhfqa = 1.8e9 # Sampling frequency of UHF-QA\n",
    "integrationPoints = 4096 # Number of sampled used for integration\n",
    "ampl = 0.38 # Vpk of weights signal\n",
    "\n",
    "ch1_w_real = ampl*np.sin(2*np.pi*ch1_freq*np.arange(integrationPoints)/fs_uhfqa)\n",
    "ch1_w_imag = ampl*np.cos(2*np.pi*ch1_freq*np.arange(integrationPoints)/fs_uhfqa)\n",
    "\n",
    "ch2_w_real = ampl*np.sin(2*np.pi*ch2_freq*np.arange(integrationPoints)/fs_uhfqa)\n",
    "ch2_w_imag = ampl*np.cos(2*np.pi*ch2_freq*np.arange(integrationPoints)/fs_uhfqa)\n",
    "\n",
    "daq.setVector(f'/{UHFQA}/qas/0/integration/weights/0/real', ch1_w_real)\n",
    "daq.setVector(f'/{UHFQA}/qas/0/integration/weights/0/imag', ch1_w_imag)\n",
    "\n",
    "daq.setVector(f'/{UHFQA}/qas/0/integration/weights/1/real', ch2_w_real)\n",
    "daq.setVector(f'/{UHFQA}/qas/0/integration/weights/1/imag', ch2_w_imag)"
   ]
  },
  {
   "cell_type": "markdown",
   "metadata": {},
   "source": [
    "### 6) Compile & upload AWG programs and start the program for four repetitions\n",
    "## Note: The UHF-AWG is looped for 128 times - HD-AWG is looped for 64 times with two DIO triggers each loop\n",
    "## In total: PQSC will send out 128 triggers which should finish both the programs.\n",
    "<a class=\"anchor\" id=\"chapter6\"></a>"
   ]
  },
  {
   "cell_type": "code",
   "execution_count": 7,
   "metadata": {},
   "outputs": [],
   "source": [
    "UHF_qubitSim_prog = '''\n",
    "const ampl = 0.5;\n",
    " \n",
    "wave I_q0_state_0 = zeros(128);\n",
    "wave Q_q0_state_0 = zeros(128);\n",
    "wave I_q0_state_1 = sine(128, ampl, 0, 2);\n",
    "wave Q_q0_state_1 = cosine(128, ampl, 0, 2);\n",
    " \n",
    "wave I_q1_state_0 = zeros(128);\n",
    "wave Q_q1_state_0 = zeros(128);\n",
    "wave I_q1_state_1 = sine(128, ampl, 0, 4);\n",
    "wave Q_q1_state_1 = cosine(128, ampl, 0, 4);\n",
    " \n",
    "wave I_state_00 = I_q1_state_0 + I_q0_state_0;\n",
    "wave Q_state_00 = Q_q1_state_0 + Q_q0_state_0;\n",
    " \n",
    "wave I_state_01 = I_q1_state_0 + I_q0_state_1;\n",
    "wave Q_state_01 = Q_q1_state_0 + Q_q0_state_1;\n",
    " \n",
    "wave I_state_10 = I_q1_state_1 + I_q0_state_0;\n",
    "wave Q_state_10 = Q_q1_state_1 + Q_q0_state_0;\n",
    " \n",
    "wave I_state_11 = I_q1_state_1 + I_q0_state_1;\n",
    "wave Q_state_11 = Q_q1_state_1 + Q_q0_state_1;\n",
    "\n",
    "var qubitState = getUserReg(0); \n",
    "\n",
    "repeat(128){\n",
    "waitDIOTrigger();\n",
    "setID(0);\n",
    "\n",
    "\n",
    "\n",
    "switch (qubitState) {\n",
    "  case 0: playWave(I_state_00, Q_state_00);startQAResult(0x300 << 16, 0b1111);waitQAResultTrigger();\n",
    "  case 1: playWave(I_state_01, Q_state_01);startQAResult(0x300 << 16, 0b1111);waitQAResultTrigger();\n",
    "  case 2: playWave(I_state_10, Q_state_10);startQAResult(0x300 << 16, 0b1111);waitQAResultTrigger();\n",
    "  case 3: playWave(I_state_11, Q_state_11);startQAResult(0x300 << 16, 0b1111);waitQAResultTrigger();\n",
    "}\n",
    "}\n",
    "'''\n",
    "\n",
    "HD_rstpulse_prog = '''\n",
    "setUserReg(0,0);\n",
    "setUserReg(1,0);\n",
    "setUserReg(2,0);\n",
    "setUserReg(3,0);\n",
    "\n",
    "repeat(64){\n",
    "// At start of program\n",
    "waitDIOTrigger();\n",
    "// Wait for qubit measurement result\n",
    "waitDIOTrigger();\n",
    "var res = getDIOTriggered();\n",
    "\n",
    "}\n",
    "\n",
    "'''\n",
    "\n",
    "# Channels to test\n",
    "channels = [0,1]\n",
    "\n",
    "# Setup UHF AWG module\n",
    "awg_uhf = daq.awgModule()\n",
    "awg_uhf.set('device', UHFQA)\n",
    "awg_uhf.set('index', 0)\n",
    "awg_uhf.execute()\n",
    "awg_uhf.set('awg/enable', 0)\n",
    "\n",
    "# Setup HD AWG module\n",
    "awg_hd = daq.awgModule()\n",
    "awg_hd.set('device', HDAWG)\n",
    "awg_hd.set('index', 0)\n",
    "awg_hd.execute()\n",
    "awg_hd.set('awg/enable', 0)\n",
    "\n",
    "# Upload HD program\n",
    "awg_compile_upload_elf(awg_uhf, 0, UHF_qubitSim_prog)\n",
    "\n",
    "# Upload UHF program\n",
    "awg_compile_upload_elf(awg_hd, 0, HD_rstpulse_prog)\n",
    "\n",
    "# PQSC holdoff time in seconds (must be multiple of 10)\n",
    "daq.setDouble(f'/{PQSC}/execution/repetitions', 128)\n",
    "daq.setDouble(f'/{PQSC}/execution/holdoff', 100e-3)"
   ]
  },
  {
   "cell_type": "markdown",
   "metadata": {},
   "source": [
    "### 7) Run each of the four possible qubit states 128 times\n",
    "#### Rotate the resulting complex result 360* and find the maximum real value\n",
    "#### The maximum real value along with the corresponding angle rotation will be stored for each state\n",
    "<a class=\"anchor\" id=\"chapter6\"></a>"
   ]
  },
  {
   "cell_type": "markdown",
   "metadata": {},
   "source": [
    "### 7.1) Find qubit 1 and qubit 2 ground state threshold: 00  <a class=\"anchor\" id=\"chapter7\"></a>"
   ]
  },
  {
   "cell_type": "code",
   "execution_count": 8,
   "metadata": {},
   "outputs": [
    {
     "name": "stdout",
     "output_type": "stream",
     "text": [
      "Acquiring data...\n",
      "Done.\n"
     ]
    }
   ],
   "source": [
    "for ch in channels:\n",
    "    daq.setDouble('/{:s}/qas/0/thresholds/{:d}/level'.format(UHFQA, ch), 0)\n",
    "\n",
    "# 0 --> both qubits are in ground state\n",
    "daq.setInt(f'/{UHFQA}/AWGS/0/USERREGS/0', 0)\n",
    "    \n",
    "# Now we're ready for readout. Enable result unit and start acquisition.\n",
    "daq.setInt('/{:s}/qas/0/result/reset'.format(UHFQA), 1)\n",
    "daq.setInt('/{:s}/qas/0/result/enable'.format(UHFQA), 1)\n",
    "daq.sync()\n",
    "#\n",
    "# Subscribe to result waves\n",
    "paths = []\n",
    "for ch in channels:\n",
    "    path = '/{:s}/qas/0/result/data/{:d}/wave'.format(UHFQA, ch)\n",
    "    paths.append(path)\n",
    "daq.subscribe(paths)\n",
    "\n",
    "# Arm the device\n",
    "daq.asyncSetInt('/{:s}/awgs/0/single'.format(UHFQA), 1)\n",
    "daq.syncSetInt('/{:s}/awgs/0/enable'.format(UHFQA), 1)\n",
    "\n",
    "time.sleep(2)\n",
    "\n",
    "daq.asyncSetInt(f'/{PQSC}/execution/enable', 1)\n",
    "\n",
    "# Perform acquisition\n",
    "print('Acquiring data...')\n",
    "# Since we are acquiring 128 data samples (maybe over-doing it, but reliable), and each PQSC trigger is 100 ms\n",
    "# We will need to poll for at least 128*100ms = 12.8 seconds, so below I chose 20 seconds just to be safe.\n",
    "data = daq.poll(20, 20000, 4, True)\n",
    "#data = acquisition_poll(daq, paths, result_length)\n",
    "print('Done.')\n",
    "\n",
    "# Stop result unit\n",
    "daq.unsubscribe(paths)\n",
    "daq.setInt('/{:s}/qas/0/result/enable'.format(UHFQA), 0)\n",
    "\n",
    "avgCh1 = np.average(data[paths[0]][0]['vector'])\n",
    "avgCh2 = np.average(data[paths[1]][0]['vector'])"
   ]
  },
  {
   "cell_type": "code",
   "execution_count": 9,
   "metadata": {},
   "outputs": [
    {
     "name": "stdout",
     "output_type": "stream",
     "text": [
      "Optimum rotation found at a rotation of 229 degrees which gives a real value for qubit 1 ground state at 0.002367931188146823\n",
      "Optimum rotation found at a rotation of 222 degrees which gives a real value for qubit 2 ground state at 0.00035690125467061496\n"
     ]
    },
    {
     "data": {
      "image/png": "[encoded data removed]",
      "text/plain": [
       "<Figure size 432x288 with 1 Axes>"
      ]
     },
     "metadata": {
      "needs_background": "light"
     },
     "output_type": "display_data"
    }
   ],
   "source": [
    "maxVal = avgCh1\n",
    "for i in range(0, 365):\n",
    "    tempVal = rotate(avgCh1, i)\n",
    "    \n",
    "    if(np.real(tempVal) > np.real(maxVal)):\n",
    "        maxVal = tempVal\n",
    "        rotDegrees = i\n",
    "\n",
    "plt.polar([0,np.angle(maxVal)],[0,abs(maxVal)],marker='o')\n",
    "print(f'Optimum rotation found at a rotation of {rotDegrees} degrees which gives a real value for qubit 1 ground state at {np.real(maxVal)}')        \n",
    "    \n",
    "# Stores maximum value of qubit 1 when 00\n",
    "ch0_00 = maxVal\n",
    "ch0_00_rot = rotDegrees\n",
    "\n",
    "maxVal = avgCh2\n",
    "for i in range(0, 365):\n",
    "    tempVal = rotate(avgCh2, i)\n",
    "    \n",
    "    if(np.real(tempVal) > np.real(maxVal)):\n",
    "        maxVal = tempVal\n",
    "        rotDegrees = i\n",
    "        \n",
    "plt.polar([0,np.angle(maxVal)],[0,abs(maxVal)],marker='o')\n",
    "print(f'Optimum rotation found at a rotation of {rotDegrees} degrees which gives a real value for qubit 2 ground state at {np.real(maxVal)}')\n",
    "\n",
    "# Stores maximum value of qubit 2 when 00\n",
    "ch1_00 = maxVal\n",
    "ch1_00_rot = rotDegrees"
   ]
  },
  {
   "cell_type": "markdown",
   "metadata": {},
   "source": [
    "### 7.2) Find qubit 1 and qubit 2 excited state threshold : 11 <a class=\"anchor\" id=\"chapter7\"></a>"
   ]
  },
  {
   "cell_type": "code",
   "execution_count": 10,
   "metadata": {},
   "outputs": [
    {
     "name": "stdout",
     "output_type": "stream",
     "text": [
      "Acquiring data...\n",
      "Done.\n"
     ]
    }
   ],
   "source": [
    "for ch in channels:\n",
    "    daq.setDouble('/{:s}/qas/0/thresholds/{:d}/level'.format(UHFQA, ch), 0)\n",
    "\n",
    "# 0 --> both qubits are in excited state\n",
    "daq.setInt(f'/{UHFQA}/AWGS/0/USERREGS/0', 3)\n",
    "    \n",
    "# Now we're ready for readout. Enable result unit and start acquisition.\n",
    "daq.setInt('/{:s}/qas/0/result/reset'.format(UHFQA), 1)\n",
    "daq.setInt('/{:s}/qas/0/result/enable'.format(UHFQA), 1)\n",
    "daq.sync()\n",
    "#\n",
    "# Subscribe to result waves\n",
    "paths = []\n",
    "for ch in channels:\n",
    "    path = '/{:s}/qas/0/result/data/{:d}/wave'.format(UHFQA, ch)\n",
    "    paths.append(path)\n",
    "daq.subscribe(paths)\n",
    "#\n",
    "# Arm the device\n",
    "daq.asyncSetInt('/{:s}/awgs/0/single'.format(UHFQA), 1)\n",
    "daq.syncSetInt('/{:s}/awgs/0/enable'.format(UHFQA), 1)\n",
    "\n",
    "daq.setInt(f'/{PQSC}/execution/enable', 1)\n",
    "\n",
    "# Perform acquisition\n",
    "print('Acquiring data...')\n",
    "# Since we are acquiring 128 data samples (maybe over-doing it, but reliable), and each PQSC trigger is 100 ms\n",
    "# We will need to poll for at least 128*100ms = 12.8 seconds, so below I chose 20 seconds just to be safe.\n",
    "data = daq.poll(20, 20000, 4, True)\n",
    "#data = acquisition_poll(daq, paths, result_length)\n",
    "print('Done.')\n",
    "\n",
    "# Stop result unit\n",
    "daq.unsubscribe(paths)\n",
    "daq.setInt('/{:s}/qas/0/result/enable'.format(UHFQA), 0)\n",
    "\n",
    "avgCh1 = np.average(data[paths[0]][0]['vector'])\n",
    "avgCh2 = np.average(data[paths[1]][0]['vector'])"
   ]
  },
  {
   "cell_type": "code",
   "execution_count": 11,
   "metadata": {},
   "outputs": [
    {
     "name": "stdout",
     "output_type": "stream",
     "text": [
      "Optimum rotation found at a rotation of 317 degrees which gives a real value for qubit 1 excited state at 6.662619511220351\n",
      "Optimum rotation found at a rotation of 317 degrees which gives a real value for qubit 2 excited state at 6.229995711882447\n"
     ]
    },
    {
     "data": {
      "image/png": "[encoded data removed]",
      "text/plain": [
       "<Figure size 432x288 with 1 Axes>"
      ]
     },
     "metadata": {
      "needs_background": "light"
     },
     "output_type": "display_data"
    }
   ],
   "source": [
    "maxVal = avgCh1\n",
    "for i in range(0, 365):\n",
    "    tempVal = rotate(avgCh1, i)\n",
    "    \n",
    "    if(np.real(tempVal) > np.real(maxVal)):\n",
    "        maxVal = tempVal\n",
    "        rotDegrees = i\n",
    "\n",
    "plt.polar([0,np.angle(maxVal)],[0,abs(maxVal)],marker='o')\n",
    "print(f'Optimum rotation found at a rotation of {rotDegrees} degrees which gives a real value for qubit 1 excited state at {np.real(maxVal)}')        \n",
    "        \n",
    "# Stores maximum value of qubit 1 when 11\n",
    "ch0_11 = maxVal\n",
    "ch0_11_rot = rotDegrees\n",
    "\n",
    "\n",
    "maxVal = avgCh2\n",
    "for i in range(0, 365):\n",
    "    tempVal = rotate(avgCh2, i)\n",
    "    \n",
    "    if(np.real(tempVal) > np.real(maxVal)):\n",
    "        maxVal = tempVal\n",
    "        rotDegrees = i\n",
    "        \n",
    "plt.polar([0,np.angle(maxVal)],[0,abs(maxVal)],marker='o')\n",
    "print(f'Optimum rotation found at a rotation of {rotDegrees} degrees which gives a real value for qubit 2 excited state at {np.real(maxVal)}')\n",
    "\n",
    "# Stores maximum value of qubit 1 when 11\n",
    "ch1_11 = maxVal\n",
    "ch1_11_rot = rotDegrees"
   ]
  },
  {
   "cell_type": "markdown",
   "metadata": {},
   "source": [
    "### 7.3) Find qubit 1 excited state threshold: 01  <a class=\"anchor\" id=\"chapter7\"></a>"
   ]
  },
  {
   "cell_type": "code",
   "execution_count": 12,
   "metadata": {},
   "outputs": [
    {
     "name": "stdout",
     "output_type": "stream",
     "text": [
      "Acquiring data...\n",
      "Done.\n"
     ]
    }
   ],
   "source": [
    "for ch in channels:\n",
    "    daq.setDouble('/{:s}/qas/0/thresholds/{:d}/level'.format(UHFQA, ch), 0)\n",
    "\n",
    "# 0 --> both qubits are in excited state\n",
    "daq.setInt(f'/{UHFQA}/AWGS/0/USERREGS/0', 1)\n",
    "    \n",
    "# Now we're ready for readout. Enable result unit and start acquisition.\n",
    "daq.setInt('/{:s}/qas/0/result/reset'.format(UHFQA), 1)\n",
    "daq.setInt('/{:s}/qas/0/result/enable'.format(UHFQA), 1)\n",
    "daq.sync()\n",
    "#\n",
    "# Subscribe to result waves\n",
    "paths = []\n",
    "for ch in channels:\n",
    "    path = '/{:s}/qas/0/result/data/{:d}/wave'.format(UHFQA, ch)\n",
    "    paths.append(path)\n",
    "daq.subscribe(paths)\n",
    "#\n",
    "# Arm the device\n",
    "daq.asyncSetInt('/{:s}/awgs/0/single'.format(UHFQA), 1)\n",
    "daq.syncSetInt('/{:s}/awgs/0/enable'.format(UHFQA), 1)\n",
    "\n",
    "daq.setInt(f'/{PQSC}/execution/enable', 1)\n",
    "\n",
    "# Perform acquisition\n",
    "print('Acquiring data...')\n",
    "# Since we are acquiring 128 data samples (maybe over-doing it, but reliable), and each PQSC trigger is 100 ms\n",
    "# We will need to poll for at least 128*100ms = 12.8 seconds, so below I chose 20 seconds just to be safe.\n",
    "data = daq.poll(20, 20000, 4, True)\n",
    "#data = acquisition_poll(daq, paths, result_length)\n",
    "print('Done.')\n",
    "\n",
    "# Stop result unit\n",
    "daq.unsubscribe(paths)\n",
    "daq.setInt('/{:s}/qas/0/result/enable'.format(UHFQA), 0)\n",
    "\n",
    "avgCh1 = np.average(data[paths[0]][0]['vector'])\n",
    "avgCh2 = np.average(data[paths[1]][0]['vector'])"
   ]
  },
  {
   "cell_type": "code",
   "execution_count": 13,
   "metadata": {},
   "outputs": [
    {
     "name": "stdout",
     "output_type": "stream",
     "text": [
      "Optimum rotation found at a rotation of 316 degrees which gives a real value for qubit 1 excited state at 6.780792667912355\n",
      "Optimum rotation found at a rotation of 86 degrees which gives a real value for qubit 2 ground state at 0.1457076984477823\n"
     ]
    },
    {
     "data": {
      "image/png": "[encoded data removed]",
      "text/plain": [
       "<Figure size 432x288 with 1 Axes>"
      ]
     },
     "metadata": {
      "needs_background": "light"
     },
     "output_type": "display_data"
    }
   ],
   "source": [
    "maxVal = avgCh1\n",
    "for i in range(0, 365):\n",
    "    tempVal = rotate(avgCh1, i)\n",
    "    \n",
    "    if(np.real(tempVal) > np.real(maxVal)):\n",
    "        maxVal = tempVal\n",
    "        rotDegrees = i\n",
    "\n",
    "plt.polar([0,np.angle(maxVal)],[0,abs(maxVal)],marker='o')\n",
    "print(f'Optimum rotation found at a rotation of {rotDegrees} degrees which gives a real value for qubit 1 excited state at {np.real(maxVal)}')        \n",
    "\n",
    "# Stores maximum value of qubit 1 when 01\n",
    "ch0_01 = maxVal\n",
    "ch0_01_rot = rotDegrees\n",
    "\n",
    "\n",
    "maxVal = avgCh2\n",
    "for i in range(0, 365):\n",
    "    tempVal = rotate(avgCh2, i)\n",
    "    \n",
    "    if(np.real(tempVal) > np.real(maxVal)):\n",
    "        maxVal = tempVal\n",
    "        rotDegrees = i\n",
    "        \n",
    "plt.polar([0,np.angle(maxVal)],[0,abs(maxVal)],marker='o')\n",
    "print(f'Optimum rotation found at a rotation of {rotDegrees} degrees which gives a real value for qubit 2 ground state at {np.real(maxVal)}')\n",
    "\n",
    "# Stores maximum value of qubit 2 when 01\n",
    "ch1_01 = maxVal\n",
    "ch1_01_rot = rotDegrees"
   ]
  },
  {
   "cell_type": "markdown",
   "metadata": {},
   "source": [
    "### 7.4) Find qubit 2 excited state threshold:10  <a class=\"anchor\" id=\"chapter7\"></a>"
   ]
  },
  {
   "cell_type": "code",
   "execution_count": 14,
   "metadata": {},
   "outputs": [
    {
     "name": "stdout",
     "output_type": "stream",
     "text": [
      "Acquiring data...\n",
      "Done.\n"
     ]
    }
   ],
   "source": [
    "for ch in channels:\n",
    "    daq.setDouble('/{:s}/qas/0/thresholds/{:d}/level'.format(UHFQA, ch), 0)\n",
    "\n",
    "# 0 --> both qubits are in excited state\n",
    "daq.setInt(f'/{UHFQA}/AWGS/0/USERREGS/0', 2)\n",
    "    \n",
    "# Now we're ready for readout. Enable result unit and start acquisition.\n",
    "daq.setInt('/{:s}/qas/0/result/reset'.format(UHFQA), 1)\n",
    "daq.setInt('/{:s}/qas/0/result/enable'.format(UHFQA), 1)\n",
    "daq.sync()\n",
    "#\n",
    "# Subscribe to result waves\n",
    "paths = []\n",
    "for ch in channels:\n",
    "    path = '/{:s}/qas/0/result/data/{:d}/wave'.format(UHFQA, ch)\n",
    "    paths.append(path)\n",
    "daq.subscribe(paths)\n",
    "#\n",
    "# Arm the device\n",
    "daq.asyncSetInt('/{:s}/awgs/0/single'.format(UHFQA), 1)\n",
    "daq.syncSetInt('/{:s}/awgs/0/enable'.format(UHFQA), 1)\n",
    "\n",
    "daq.setInt(f'/{PQSC}/execution/enable', 1)\n",
    "\n",
    "# Perform acquisition\n",
    "print('Acquiring data...')\n",
    "# Since we are acquiring 128 data samples (maybe over-doing it, but reliable), and each PQSC trigger is 100 ms\n",
    "# We will need to poll for at least 128*100ms = 12.8 seconds, so below I chose 20 seconds just to be safe.\n",
    "data = daq.poll(20, 20000, 4, True)\n",
    "#data = acquisition_poll(daq, paths, result_length)\n",
    "print('Done.')\n",
    "\n",
    "# Stop result unit\n",
    "daq.unsubscribe(paths)\n",
    "daq.setInt('/{:s}/qas/0/result/enable'.format(UHFQA), 0)\n",
    "\n",
    "avgCh1 = np.average(data[paths[0]][0]['vector'])\n",
    "avgCh2 = np.average(data[paths[1]][0]['vector'])"
   ]
  },
  {
   "cell_type": "code",
   "execution_count": 15,
   "metadata": {},
   "outputs": [
    {
     "name": "stdout",
     "output_type": "stream",
     "text": [
      "Optimum rotation found at a rotation of 86 degrees which gives a real value for qubit 1 ground state at 0.14020886194239507\n",
      "Optimum rotation found at a rotation of 316 degrees which gives a real value for qubit 2 excited state at 6.346715273433425\n"
     ]
    },
    {
     "data": {
      "image/png": "[encoded data removed]",
      "text/plain": [
       "<Figure size 432x288 with 1 Axes>"
      ]
     },
     "metadata": {
      "needs_background": "light"
     },
     "output_type": "display_data"
    }
   ],
   "source": [
    "maxVal = avgCh1\n",
    "for i in range(0, 365):\n",
    "    tempVal = rotate(avgCh1, i)\n",
    "    \n",
    "    if(np.real(tempVal) > np.real(maxVal)):\n",
    "        maxVal = tempVal\n",
    "        rotDegrees = i\n",
    "\n",
    "plt.polar([0,np.angle(maxVal)],[0,abs(maxVal)],marker='o')\n",
    "print(f'Optimum rotation found at a rotation of {rotDegrees} degrees which gives a real value for qubit 1 ground state at {np.real(maxVal)}')        \n",
    "\n",
    "# Stores maximum value of qubit 1 when 01\n",
    "ch0_10 = maxVal\n",
    "ch0_10_rot = i\n",
    "\n",
    "\n",
    "maxVal = avgCh2\n",
    "for i in range(0, 365):\n",
    "    tempVal = rotate(avgCh2, i)\n",
    "    \n",
    "    if(np.real(tempVal) > np.real(maxVal)):\n",
    "        maxVal = tempVal\n",
    "        rotDegrees = i\n",
    "        \n",
    "plt.polar([0,np.angle(maxVal)],[0,abs(maxVal)],marker='o')\n",
    "print(f'Optimum rotation found at a rotation of {rotDegrees} degrees which gives a real value for qubit 2 excited state at {np.real(maxVal)}')\n",
    "\n",
    "# Stores maximum value of qubit 2 when 01\n",
    "ch1_10 = maxVal\n",
    "ch1_10_rot = rotDegrees"
   ]
  },
  {
   "cell_type": "code",
   "execution_count": 16,
   "metadata": {},
   "outputs": [
    {
     "name": "stdout",
     "output_type": "stream",
     "text": [
      "316.5\n",
      "316.5\n",
      "3.389212368362104\n",
      "3.173179186089377\n"
     ]
    }
   ],
   "source": [
    "# Channel 1 and 2 rotated values\n",
    "\n",
    "ch0rot = (ch0_01_rot + ch0_11_rot)/2\n",
    "\n",
    "ch1rot = (ch1_10_rot + ch1_11_rot)/2\n",
    "\n",
    "print(f'{ch0rot}')\n",
    "print(f'{ch1rot}')\n",
    "\n",
    "# Find rotation co-efficients\n",
    "ch0rot = complex(np.cos(math.radians(ch0rot)), np.sin(math.radians(ch0rot)))\n",
    "ch1rot = complex(np.cos(math.radians(ch1rot)), np.sin(math.radians(ch1rot)))\n",
    "\n",
    "# Find threshold for channels 0 and 1\n",
    "ch0_threshold = (np.real(ch0_01) - np.real(ch0_00))/2\n",
    "ch1_threshold = (np.real(ch1_10) - np.real(ch1_00))/2\n",
    "\n",
    "\n",
    "print(f'{ch0_threshold}')\n",
    "print(f'{ch1_threshold}')\n",
    "\n",
    "# Set the optimum rotations for channels 0 and 1\n",
    "daq.setComplex(f'/{UHFQA}/qas/0/rotations/0', ch0rot)\n",
    "daq.setComplex(f'/{UHFQA}/qas/0/rotations/1', ch1rot)\n",
    "\n",
    "# Set the optimum thresholds for channels 0 and 1\n",
    "daq.setDouble(f'/{UHFQA}/qas/0/thresholds/0/level', ch0_threshold)\n",
    "daq.setDouble(f'/{UHFQA}/qas/0/thresholds/1/level', ch1_threshold)"
   ]
  },
  {
   "cell_type": "code",
   "execution_count": null,
   "metadata": {},
   "outputs": [],
   "source": []
  }
 ],
 "metadata": {
  "kernelspec": {
   "display_name": "Python 3",
   "language": "python",
   "name": "python3"
  },
  "language_info": {
   "codemirror_mode": {
    "name": "ipython",
    "version": 3
   },
   "file_extension": ".py",
   "mimetype": "text/x-python",
   "name": "python",
   "nbconvert_exporter": "python",
   "pygments_lexer": "ipython3",
   "version": "3.7.6"
  }
 },
 "nbformat": 4,
 "nbformat_minor": 4
}
